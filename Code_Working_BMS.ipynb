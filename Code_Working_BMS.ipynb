{
 "cells": [
  {
   "cell_type": "code",
   "execution_count": 53,
   "metadata": {},
   "outputs": [
    {
     "ename": "KeyError",
     "evalue": "'ticker'",
     "output_type": "error",
     "traceback": [
      "\u001b[1;31m---------------------------------------------------------------------------\u001b[0m",
      "\u001b[1;31mKeyError\u001b[0m                                  Traceback (most recent call last)",
      "\u001b[1;32m<ipython-input-53-deeb684672fa>\u001b[0m in \u001b[0;36m<module>\u001b[1;34m\u001b[0m\n\u001b[0;32m    122\u001b[0m \u001b[1;33m\u001b[0m\u001b[0m\n\u001b[0;32m    123\u001b[0m \u001b[1;33m\u001b[0m\u001b[0m\n\u001b[1;32m--> 124\u001b[1;33m     \u001b[0mpayload\u001b[0m \u001b[1;33m=\u001b[0m \u001b[0murllib\u001b[0m\u001b[1;33m.\u001b[0m\u001b[0mparse\u001b[0m\u001b[1;33m.\u001b[0m\u001b[0murlencode\u001b[0m\u001b[1;33m(\u001b[0m\u001b[1;33m{\u001b[0m\u001b[1;34m'ETH USD'\u001b[0m\u001b[1;33m:\u001b[0m\u001b[0mconditions\u001b[0m\u001b[1;33m[\u001b[0m\u001b[1;34m'ticker'\u001b[0m\u001b[1;33m]\u001b[0m\u001b[1;33m[\u001b[0m\u001b[1;34m'USD'\u001b[0m\u001b[1;33m]\u001b[0m\u001b[1;33m}\u001b[0m\u001b[1;33m)\u001b[0m\u001b[1;31m#,'BTC USD':conditions['BTC']['USD'],'LTC USD':conditions['LTC']['USD']})\u001b[0m\u001b[1;33m\u001b[0m\u001b[1;33m\u001b[0m\u001b[0m\n\u001b[0m\u001b[0;32m    125\u001b[0m     \u001b[1;31m#accordingly, the code above has the problem KeyError: 'ETH'\u001b[0m\u001b[1;33m\u001b[0m\u001b[1;33m\u001b[0m\u001b[1;33m\u001b[0m\u001b[0m\n\u001b[0;32m    126\u001b[0m \u001b[1;33m\u001b[0m\u001b[0m\n",
      "\u001b[1;31mKeyError\u001b[0m: 'ticker'"
     ]
    }
   ],
   "source": [
    "#So far the problem now is in the ticker code down on line 124. I'm assuming that's as far as the code is running, so possibly\n",
    "#more problems after the line, but it's ok\n",
    "\n",
    "from dotenv import load_dotenv\n",
    "#import alpaca_trade_api as tradeapi_a\n",
    "import os\n",
    "import urllib\n",
    "\n",
    "load_dotenv('Alpaca.env')\n",
    "kraken_key = os.environ.get('KRAKEN_PUBLIC_KEY')\n",
    "kraken_secret_key = os.environ.get('KRAKEN_SECRET_KEY')\n",
    "type(kraken_key)\n",
    "\n",
    "\n",
    "\n",
    "\n",
    "from datetime import datetime\n",
    "from dateutil.relativedelta import relativedelta\n",
    "\n",
    "### Functionality Helper Functions ###\n",
    "def parse_int(n):\n",
    "    \"\"\"\n",
    "    Securely converts a non-integer value to integer.\n",
    "    \"\"\"\n",
    "    try:\n",
    "        return int(n)\n",
    "    except ValueError:\n",
    "        return float(\"nan\")\n",
    "\n",
    "\n",
    "def build_validation_result(is_valid, violated_slot, message_content):\n",
    "    \"\"\"\n",
    "    Define a result message structured as Lex response.\n",
    "    \"\"\"\n",
    "    if message_content is None:\n",
    "        return {\"isValid\": is_valid, \"violatedSlot\": violated_slot}\n",
    "\n",
    "    return {\n",
    "        \"isValid\": is_valid,\n",
    "        \"violatedSlot\": violated_slot,\n",
    "        \"message\": {\"contentType\": \"PlainText\", \"content\": message_content},\n",
    "    }\n",
    "\n",
    "\n",
    "### Dialog Actions Helper Functions ###\n",
    "def get_slots(intent_request):\n",
    "    \"\"\"\n",
    "    Fetch all the slots and their values from the current intent.\n",
    "    \"\"\"\n",
    "    return intent_request[\"currentIntent\"][\"slots\"]\n",
    "\n",
    "\n",
    "def elicit_slot(session_attributes, intent_name, slots, slot_to_elicit, message):\n",
    "    \"\"\"\n",
    "    Defines an elicit slot type response.\n",
    "    \"\"\"\n",
    "\n",
    "    return {\n",
    "        \"sessionAttributes\": session_attributes,\n",
    "        \"dialogAction\": {\n",
    "            \"type\": \"ElicitSlot\",\n",
    "            \"intentName\": intent_name,\n",
    "            \"slots\": slots,\n",
    "            \"slotToElicit\": slot_to_elicit,\n",
    "            \"message\": message,\n",
    "        },\n",
    "    }\n",
    "\n",
    "\n",
    "def delegate(session_attributes, slots):\n",
    "    \"\"\"\n",
    "    Defines a delegate slot type response.\n",
    "    \"\"\"\n",
    "\n",
    "    return {\n",
    "        \"sessionAttributes\": session_attributes,\n",
    "        \"dialogAction\": {\"type\": \"Delegate\", \"slots\": slots},\n",
    "    }\n",
    "\n",
    "\n",
    "def close(session_attributes, fulfillment_state, message):\n",
    "    \"\"\"\n",
    "    Defines a close slot type response.\n",
    "    \"\"\"\n",
    "\n",
    "    response = {\n",
    "        \"sessionAttributes\": session_attributes,\n",
    "        \"dialogAction\": {\n",
    "            \"type\": \"Close\",\n",
    "            \"fulfillmentState\": fulfillment_state,\n",
    "            \"message\": message,\n",
    "        },\n",
    "    }\n",
    "\n",
    "    return response\n",
    "\n",
    "\n",
    "\n",
    "# --------- User Settings ---------\n",
    "API_KEY = \"KRAKEN_KEY\"\n",
    "API_SECRET_KEY = \"KRAKEN_SECRET_KEY\"\n",
    "\n",
    "# ---------------------------------\n",
    "import json\n",
    "def get_conditions():\n",
    "    ticker = \"ETH\"\n",
    "    api_conditions_url = \"https://api.kraken.com/0/public/Ticker?pair=\"+ticker+\"USD\"\n",
    "    \n",
    "    f = urllib.request.urlopen(api_conditions_url)\n",
    "   \n",
    "    json_conditions = f.read()\n",
    "    f.close()\n",
    "    return json.loads(json_conditions)\n",
    "#Put the code in here\n",
    "#import json\n",
    "#ticker = \"ETH\"\n",
    "#api_conditions_url = \"https://api.kraken.com/0/public/Ticker?pair=\"+ticker+\"USD\"\n",
    "#response = urllib.request.urlopen(api_conditions_url)\n",
    "#data = json.load(response)\n",
    "\n",
    "conditions = get_conditions()\n",
    "#coins = {'ETH':'https://www.kraken.com/prices/eth-ethereum-price-chart/usdc-usd-coin?interval=1m'}\n",
    "\n",
    "if (conditions != False):\n",
    "    \n",
    "    \n",
    "    payload = urllib.parse.urlencode({'ETH USD':conditions['ticker']['USD']})#,'BTC USD':conditions['BTC']['USD'],'LTC USD':conditions['LTC']['USD']})\n",
    "    #accordingly, the code above has the problem KeyError: 'ETH'\n",
    "    \n",
    "    \n",
    "    payload1 = payload.encode('ascii')\n",
    "    payload1 = payload1.request.Request(payload1, payload1)\n",
    "    url = 'https://api.kraken.com/0/public/Ticker?pair=ETH' + '&apiSecretKey=' + API_SECRET_KEY + '&apiKey=' + API_KEY\n",
    "    #url = 'https://www.kraken.com/api/events?apiSecretKey=' + API_SECREET_KEY + '&apiKey=' + API_SECRET_KEY\n",
    "    urllib.request.urlopen(url,payload)\n",
    "    exit()\n",
    "    \n",
    "\n",
    "def dispatch(intent_request):\n",
    "    \"\"\"\n",
    "    Called when the user specifies an intent for this bot.\n",
    "    \"\"\"\n",
    "\n",
    "    intent_name = intent_request[\"currentIntent\"][\"name\"]\n",
    "\n",
    "    # Dispatch to bot's intent handlers\n",
    "    if intent_name == \"RecommendPortfolio\":\n",
    "        return recommend_portfolio(intent_request)\n",
    "\n",
    "    raise Exception(\"Intent with name \" + intent_name + \" not supported\")\n",
    "\n",
    "\n",
    "    \n",
    "    ### Main Handler ###\n",
    "def lambda_handler(event, context):\n",
    "    \"\"\"\n",
    "    Route the incoming request based on intent.\n",
    "    The JSON body of the request is provided in the event slot.\n",
    "    \"\"\"\n",
    "\n",
    "    return dispatch(event)\n",
    "\n",
    "\n"
   ]
  },
  {
   "cell_type": "code",
   "execution_count": 50,
   "metadata": {},
   "outputs": [],
   "source": [
    "import json\n",
    "ticker = \"ETH\"\n",
    "api_conditions_url = \"https://api.kraken.com/0/public/Ticker?pair=\"+ticker+\"USD\"\n",
    "response = urllib.request.urlopen(api_conditions_url)\n",
    "data = json.load(response)"
   ]
  },
  {
   "cell_type": "code",
   "execution_count": 51,
   "metadata": {},
   "outputs": [
    {
     "name": "stdout",
     "output_type": "stream",
     "text": [
      "{'error': [], 'result': {'XETHZUSD': {'a': ['2081.75000', '101', '101.000'], 'b': ['2081.74000', '1', '1.000'], 'c': ['2081.86000', '0.99368000'], 'v': ['2342.09608201', '44921.65719701'], 'p': ['2086.87146', '2039.59356'], 't': [2190, 27379], 'l': ['2077.03000', '1981.55000'], 'h': ['2097.30000', '2097.30000'], 'o': '2080.63000'}}}\n"
     ]
    }
   ],
   "source": [
    "print(data)"
   ]
  },
  {
   "cell_type": "code",
   "execution_count": 42,
   "metadata": {},
   "outputs": [
    {
     "data": {
      "text/plain": [
       "'2078.69000'"
      ]
     },
     "execution_count": 42,
     "metadata": {},
     "output_type": "execute_result"
    }
   ],
   "source": [
    "data['result']['XETHZUSD']['c'][0]"
   ]
  },
  {
   "cell_type": "code",
   "execution_count": 34,
   "metadata": {},
   "outputs": [
    {
     "data": {
      "text/plain": [
       "str"
      ]
     },
     "execution_count": 34,
     "metadata": {},
     "output_type": "execute_result"
    }
   ],
   "source": [
    "load_dotenv('Alpaca.env')\n",
    "kraken_key = os.environ.get('KRAKEN_PUBLIC_KEY')\n",
    "kraken_secret_key = os.environ.get('KRAKEN_SECRET_KEY')\n",
    "type(kraken_key)"
   ]
  },
  {
   "cell_type": "code",
   "execution_count": 36,
   "metadata": {},
   "outputs": [
    {
     "name": "stdout",
     "output_type": "stream",
     "text": [
      "4NP2rVmlUpQjICSa32csRb8uyi1qxjyASqlR3cunRJFphiT4yhQnn7Ta\n"
     ]
    }
   ],
   "source": [
    "print(kraken_key)"
   ]
  },
  {
   "cell_type": "code",
   "execution_count": null,
   "metadata": {},
   "outputs": [],
   "source": []
  }
 ],
 "metadata": {
  "kernelspec": {
   "display_name": "Python 3",
   "language": "python",
   "name": "python3"
  },
  "language_info": {
   "codemirror_mode": {
    "name": "ipython",
    "version": 3
   },
   "file_extension": ".py",
   "mimetype": "text/x-python",
   "name": "python",
   "nbconvert_exporter": "python",
   "pygments_lexer": "ipython3",
   "version": "3.8.5"
  }
 },
 "nbformat": 4,
 "nbformat_minor": 4
}
